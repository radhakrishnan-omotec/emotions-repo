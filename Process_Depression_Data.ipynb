{
  "nbformat": 4,
  "nbformat_minor": 0,
  "metadata": {
    "colab": {
      "provenance": [],
      "authorship_tag": "ABX9TyNvZ6UUDmxAEVu+zkbxyS7T",
      "include_colab_link": true
    },
    "kernelspec": {
      "name": "python3",
      "display_name": "Python 3"
    },
    "language_info": {
      "name": "python"
    }
  },
  "cells": [
    {
      "cell_type": "markdown",
      "metadata": {
        "id": "view-in-github",
        "colab_type": "text"
      },
      "source": [
        "<a href=\"https://colab.research.google.com/github/radhakrishnan-omotec/emotions-repo/blob/main/Process_Depression_Data.ipynb\" target=\"_parent\"><img src=\"https://colab.research.google.com/assets/colab-badge.svg\" alt=\"Open In Colab\"/></a>"
      ]
    },
    {
      "cell_type": "markdown",
      "source": [
        "#Process Depression Data from ESP32 Input CSV"
      ],
      "metadata": {
        "id": "y7daPdnq2bOl"
      }
    },
    {
      "cell_type": "markdown",
      "source": [
        "### Import Libraries"
      ],
      "metadata": {
        "id": "LwiQV6kF2kV-"
      }
    },
    {
      "cell_type": "code",
      "source": [
        "import pandas as pd"
      ],
      "metadata": {
        "id": "zHPbB-HP2mMD"
      },
      "execution_count": null,
      "outputs": []
    },
    {
      "cell_type": "markdown",
      "source": [
        "### Define the path to the input file"
      ],
      "metadata": {
        "id": "TrqUIrIh2iPB"
      }
    },
    {
      "cell_type": "code",
      "execution_count": null,
      "metadata": {
        "id": "UxvXGHhv2Yzg"
      },
      "outputs": [],
      "source": [
        "# Define the path to the input file\n",
        "input_file_path = r'Desktop\\input.csv'\n",
        "output_file_path = r'Desktop\\AaravShah\\Code\\depression_stage_data.csv'\n"
      ]
    },
    {
      "cell_type": "markdown",
      "source": [
        "### Read the input CSV file"
      ],
      "metadata": {
        "id": "1eXX_jJM21HH"
      }
    },
    {
      "cell_type": "code",
      "source": [
        "# Read the input CSV file\n",
        "data = pd.read_csv(input_file_path)"
      ],
      "metadata": {
        "id": "E6uSJP8s2z5s"
      },
      "execution_count": null,
      "outputs": []
    },
    {
      "cell_type": "markdown",
      "source": [
        "### Create a new DataFrame with the required columns"
      ],
      "metadata": {
        "id": "aNlffvp-2rQG"
      }
    },
    {
      "cell_type": "code",
      "source": [
        "# Create a new DataFrame with the required columns\n",
        "output_data = pd.DataFrame()"
      ],
      "metadata": {
        "id": "_AvckWTO24ia"
      },
      "execution_count": null,
      "outputs": []
    },
    {
      "cell_type": "markdown",
      "source": [
        "### Copy the 'Heart Rate (bpm)' column from the input CSV"
      ],
      "metadata": {
        "id": "SpWDv9z_2_1E"
      }
    },
    {
      "cell_type": "code",
      "source": [
        "# Copy the 'Heart Rate (bpm)' column from the input CSV\n",
        "output_data['Heart Rate (bpm)'] = data['Heart Rate (bpm)']"
      ],
      "metadata": {
        "id": "ywFLAWP_2_Iq"
      },
      "execution_count": null,
      "outputs": []
    },
    {
      "cell_type": "markdown",
      "source": [
        "### Add the 'SpO2 (%)' column with a constant value of 85\n"
      ],
      "metadata": {
        "id": "8Ap7mmVI3Iha"
      }
    },
    {
      "cell_type": "code",
      "source": [
        "# Add the 'SpO2 (%)' column with a constant value of 85\n",
        "output_data['SpO2 (%)'] = 85"
      ],
      "metadata": {
        "id": "sQ-z6gZP3H2U"
      },
      "execution_count": null,
      "outputs": []
    },
    {
      "cell_type": "markdown",
      "source": [
        "### Add the 'Depression Stage' column based on conditions\n"
      ],
      "metadata": {
        "id": "iyJaXTxZ3M6E"
      }
    },
    {
      "cell_type": "code",
      "source": [
        "# Add the 'Depression Stage' column based on conditions\n",
        "output_data['Depression Stage'] = output_data['Heart Rate (bpm)'].apply(\n",
        "    lambda x: 0 if x < 70 else (1 if 70 < x <= 80 else (2 if 81 <= x <= 90 else 3))\n",
        ")"
      ],
      "metadata": {
        "id": "VveRQxEx3NX8"
      },
      "execution_count": null,
      "outputs": []
    },
    {
      "cell_type": "markdown",
      "source": [
        "### Save the new DataFrame to a CSV file\n"
      ],
      "metadata": {
        "id": "JZx-QGWH3Qf-"
      }
    },
    {
      "cell_type": "code",
      "source": [
        "# Save the new DataFrame to a CSV file\n",
        "output_data.to_csv(output_file_path, index=False)"
      ],
      "metadata": {
        "id": "LJB0TnoP3QwZ"
      },
      "execution_count": null,
      "outputs": []
    },
    {
      "cell_type": "markdown",
      "source": [
        "### New CSV file created"
      ],
      "metadata": {
        "id": "eYspQq0F3lio"
      }
    },
    {
      "cell_type": "code",
      "source": [
        "print(f\"New CSV file created successfully at {output_file_path}\")"
      ],
      "metadata": {
        "id": "BQvc65Du3gXb"
      },
      "execution_count": null,
      "outputs": []
    }
  ]
}